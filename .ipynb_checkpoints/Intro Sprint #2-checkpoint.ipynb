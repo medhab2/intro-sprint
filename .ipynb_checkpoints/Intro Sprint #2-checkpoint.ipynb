{
 "cells": [
  {
   "cell_type": "markdown",
   "id": "c1f8f07a",
   "metadata": {},
   "source": [
    "### Intro Sprint #2\n",
    "\n",
    "# Web Scraping with Twitter and Reddit\n",
    "\n",
    "Modified from the Fall 2020 workshop by [Melanie Walsh](https://melaniewalsh.org/).\n",
    "\n",
    "## Why Collect Social Media Data?\n",
    "* Maybe you're interested in internet language trends, like this [Pudding article about the rise of \"lol\" on Reddit](https://pudding.cool/2019/10/laugh/#lol).\n",
    "* Maybe you're interested in Twitter bots, trolls, or online protest movements, like this [NYT article about Twitter bots and Hong Kong protestors or this 538 article about Russian trolls](https://www.nytimes.com/interactive/2019/09/18/world/asia/hk-twitter.html).\n",
    "* Maybe you're interested in how online communities develop and relate to each other, like this [mapping of subreddits](https://lmcinnes.github.io/subreddit_mapping/subreddit_map.html) or this [538 piece about how people respond to politicians on Twitter](https://fivethirtyeight.com/features/the-worst-tweeter-in-politics-isnt-trump/).\n",
    "\n",
    "## How Can We Collect Social Media Data Using Computational Tools?\n",
    "\n",
    "### APIs vs Web Scraping\n",
    "\n",
    "An **Application Programming Interface** (API) allows you to programmatically extract and interact with data under the hood of websites, social networks, and other projects that make their data publicly available. Twitter and Reddit both offer APIs that allow users to access their data. However, because these APIs are controlled by the companies themselves, they also come with limitations. For example, Twitter does not allow users to collect tweets more than one week in the past without a paid subscription.\n",
    "\n",
    "Another way that you might collect data from the internet or social media is via web scraping. When you get data from an API, you're getting data from an internal source (from \"inside\" Twitter). When you \"scrape\" the surface of a web page, you're getting data from the user-facing surface of a web page, just like the web page you would pull up if you opened Chrome and typed \"twitter.com\". This makes web scraping sometimes clunky and unreliable when compared to an API, although it's often the only option if there's not an available API or the API does not offer what you're looking for.\n",
    "\n",
    "### Reddit\n",
    "\n",
    "Though Reddit has its own API, there is a more popular API for working with Reddit called **Pushshift**. You can read more about Pushshift in this arXiv article: https://arxiv.org/abs/2001.08435 (PDF)\n",
    "\n",
    "> Why do people use Pushshift’s API instead of the official Reddit API?\n",
    ">\n",
    ">In short, Pushshift makes it much easier for researchers to query and retrieve historical Reddit data, provides extended functionality by providing fulltext search against comments and submissions, and has larger single query limits.\n",
    ">\n",
    ">Jason Baumgartner, et al., \"The Pushshift Reddit Dataset\"\n",
    "\n",
    "#### Install PSAW\n",
    "\n",
    "To work with the Pushshift API, we're going to install and use a Python wrapper called [PSAW](https://github.com/dmarx/psaw)."
   ]
  },
  {
   "cell_type": "code",
   "execution_count": 37,
   "id": "a2cb5f14",
   "metadata": {},
   "outputs": [
    {
     "name": "stdout",
     "output_type": "stream",
     "text": [
      "\u001b[33mDEPRECATION: Configuring installation scheme with distutils config files is deprecated and will no longer work in the near future. If you are using a Homebrew or Linuxbrew Python, please see discussion at https://github.com/Homebrew/homebrew-core/issues/76621\u001b[0m\n",
      "Requirement already satisfied: psaw in /opt/homebrew/lib/python3.9/site-packages (0.1.0)\n",
      "Requirement already satisfied: Click in /opt/homebrew/lib/python3.9/site-packages (from psaw) (8.0.1)\n",
      "Requirement already satisfied: requests in /opt/homebrew/lib/python3.9/site-packages (from psaw) (2.26.0)\n",
      "Requirement already satisfied: idna<4,>=2.5 in /opt/homebrew/lib/python3.9/site-packages (from requests->psaw) (3.2)\n",
      "Requirement already satisfied: charset-normalizer~=2.0.0 in /opt/homebrew/lib/python3.9/site-packages (from requests->psaw) (2.0.4)\n",
      "Requirement already satisfied: certifi>=2017.4.17 in /opt/homebrew/lib/python3.9/site-packages (from requests->psaw) (2021.5.30)\n",
      "Requirement already satisfied: urllib3<1.27,>=1.21.1 in /opt/homebrew/lib/python3.9/site-packages (from requests->psaw) (1.26.6)\n"
     ]
    }
   ],
   "source": [
    "!pip3 install psaw"
   ]
  },
  {
   "cell_type": "markdown",
   "id": "64cb6be7",
   "metadata": {},
   "source": [
    "Import pandas and matplotlib."
   ]
  },
  {
   "cell_type": "code",
   "execution_count": 33,
   "id": "fa8e4f49",
   "metadata": {},
   "outputs": [],
   "source": [
    "import pandas as pd\n",
    "import matplotlib.pyplot as plt"
   ]
  },
  {
   "cell_type": "markdown",
   "id": "d49f17de",
   "metadata": {},
   "source": [
    "Import PushshiftAPI"
   ]
  },
  {
   "cell_type": "code",
   "execution_count": 16,
   "id": "f7aff9ac",
   "metadata": {},
   "outputs": [],
   "source": [
    "from psaw import PushshiftAPI"
   ]
  },
  {
   "cell_type": "markdown",
   "id": "816d2e8f",
   "metadata": {},
   "source": [
    "Initialize PushShiftAPI"
   ]
  },
  {
   "cell_type": "code",
   "execution_count": 17,
   "id": "d98a8a93",
   "metadata": {},
   "outputs": [],
   "source": [
    "api = PushshiftAPI()"
   ]
  },
  {
   "cell_type": "markdown",
   "id": "34b77d02",
   "metadata": {},
   "source": [
    "#### PSAW Usage\n",
    "\n",
    "\n",
    "To collect Reddit posts:\n",
    "\n",
    "`api.search_submissions(subreddit=\"subrredit of interest\", score=\">certain upvote score\", q=\"search keyword\", before=date, after=date)`\n",
    "\n",
    "To collect Reddit comments:\n",
    "\n",
    "`api.search_comments(subreddit=\"subrredit of interest\", score=\">certain upvote score\", q=\"search keyword\", before=date, after=date)`\n",
    "\n",
    "#### Collect Reddit submissions for a subreddit (with more than a certain upvote score)\n",
    "\n",
    "Set up generator to make API request"
   ]
  },
  {
   "cell_type": "code",
   "execution_count": 18,
   "id": "0d018473",
   "metadata": {},
   "outputs": [],
   "source": [
    "api_request_generator = api.search_submissions(subreddit='AmITheAsshole', score = \">2000\")"
   ]
  },
  {
   "cell_type": "markdown",
   "id": "c25a31bd",
   "metadata": {},
   "source": [
    "Grab data for each Reddit submission and make it into a dataframe."
   ]
  },
  {
   "cell_type": "code",
   "execution_count": 19,
   "id": "f5dacd37",
   "metadata": {},
   "outputs": [],
   "source": [
    "aita_submissions = pd.DataFrame([submission.d_ for submission in api_request_generator])"
   ]
  },
  {
   "cell_type": "markdown",
   "id": "de770450",
   "metadata": {},
   "source": [
    "Check how many Reddit posts have been collected."
   ]
  },
  {
   "cell_type": "code",
   "execution_count": 20,
   "id": "5827eb3d",
   "metadata": {},
   "outputs": [
    {
     "data": {
      "text/plain": [
       "(2587, 80)"
      ]
     },
     "execution_count": 20,
     "metadata": {},
     "output_type": "execute_result"
    }
   ],
   "source": [
    "aita_submissions.shape"
   ]
  },
  {
   "cell_type": "markdown",
   "id": "2a30fdaf",
   "metadata": {},
   "source": [
    "Check what columns/metadata are in the dataframe."
   ]
  },
  {
   "cell_type": "code",
   "execution_count": 23,
   "id": "fdc97e34",
   "metadata": {},
   "outputs": [
    {
     "data": {
      "text/plain": [
       "Index(['all_awardings', 'allow_live_comments', 'author',\n",
       "       'author_flair_css_class', 'author_flair_richtext', 'author_flair_text',\n",
       "       'author_flair_type', 'author_fullname', 'author_is_blocked',\n",
       "       'author_patreon_flair', 'author_premium', 'awarders', 'can_mod_post',\n",
       "       'contest_mode', 'created_utc', 'domain', 'edited', 'full_link',\n",
       "       'gildings', 'id', 'is_created_from_ads_ui', 'is_crosspostable',\n",
       "       'is_meta', 'is_original_content', 'is_reddit_media_domain',\n",
       "       'is_robot_indexable', 'is_self', 'is_video',\n",
       "       'link_flair_background_color', 'link_flair_richtext',\n",
       "       'link_flair_text_color', 'link_flair_type', 'locked', 'media_only',\n",
       "       'no_follow', 'num_comments', 'num_crossposts', 'over_18',\n",
       "       'parent_whitelist_status', 'permalink', 'pinned', 'pwls',\n",
       "       'retrieved_on', 'score', 'selftext', 'send_replies', 'spoiler',\n",
       "       'stickied', 'subreddit', 'subreddit_id', 'subreddit_subscribers',\n",
       "       'subreddit_type', 'suggested_sort', 'thumbnail', 'title',\n",
       "       'total_awards_received', 'treatment_tags', 'upvote_ratio', 'url',\n",
       "       'whitelist_status', 'wls', 'created', 'author_flair_background_color',\n",
       "       'author_flair_template_id', 'author_flair_text_color',\n",
       "       'link_flair_template_id', 'link_flair_text', 'top_awarded_type',\n",
       "       'gilded', 'removed_by_category', 'post_hint', 'preview', 'banned_by',\n",
       "       'link_flair_css_class', 'author_cakeday', 'steward_reports',\n",
       "       'updated_utc', 'og_description', 'og_title', 'rte_mode'],\n",
       "      dtype='object')"
      ]
     },
     "execution_count": 23,
     "metadata": {},
     "output_type": "execute_result"
    }
   ],
   "source": [
    "aita_submissions.columns"
   ]
  },
  {
   "cell_type": "code",
   "execution_count": 22,
   "id": "0556c16c",
   "metadata": {},
   "outputs": [
    {
     "data": {
      "text/html": [
       "<div>\n",
       "<style scoped>\n",
       "    .dataframe tbody tr th:only-of-type {\n",
       "        vertical-align: middle;\n",
       "    }\n",
       "\n",
       "    .dataframe tbody tr th {\n",
       "        vertical-align: top;\n",
       "    }\n",
       "\n",
       "    .dataframe thead th {\n",
       "        text-align: right;\n",
       "    }\n",
       "</style>\n",
       "<table border=\"1\" class=\"dataframe\">\n",
       "  <thead>\n",
       "    <tr style=\"text-align: right;\">\n",
       "      <th></th>\n",
       "      <th>title</th>\n",
       "      <th>score</th>\n",
       "    </tr>\n",
       "  </thead>\n",
       "  <tbody>\n",
       "    <tr>\n",
       "      <th>1462</th>\n",
       "      <td>AITA for staying in a hotel because my parents...</td>\n",
       "      <td>5596</td>\n",
       "    </tr>\n",
       "    <tr>\n",
       "      <th>2235</th>\n",
       "      <td>AITA for not touching bf when he doesn’t shower?</td>\n",
       "      <td>2017</td>\n",
       "    </tr>\n",
       "    <tr>\n",
       "      <th>213</th>\n",
       "      <td>AITA for refusing to give my ex’s emergency nu...</td>\n",
       "      <td>2060</td>\n",
       "    </tr>\n",
       "    <tr>\n",
       "      <th>625</th>\n",
       "      <td>AITA for ‘embarrassing and traumatising’ my da...</td>\n",
       "      <td>4133</td>\n",
       "    </tr>\n",
       "    <tr>\n",
       "      <th>1684</th>\n",
       "      <td>AITA for telling my wife to stop making our da...</td>\n",
       "      <td>2664</td>\n",
       "    </tr>\n",
       "    <tr>\n",
       "      <th>1702</th>\n",
       "      <td>AITA for not letting my fiancé drive my car af...</td>\n",
       "      <td>3708</td>\n",
       "    </tr>\n",
       "    <tr>\n",
       "      <th>393</th>\n",
       "      <td>AITA For no longer saving money for my stepdau...</td>\n",
       "      <td>6256</td>\n",
       "    </tr>\n",
       "    <tr>\n",
       "      <th>1188</th>\n",
       "      <td>AITA for wearing a “political” shirt to my SOs...</td>\n",
       "      <td>2135</td>\n",
       "    </tr>\n",
       "    <tr>\n",
       "      <th>1872</th>\n",
       "      <td>AITA for going out to eat with friends despite...</td>\n",
       "      <td>2709</td>\n",
       "    </tr>\n",
       "    <tr>\n",
       "      <th>1289</th>\n",
       "      <td>AITA for not giving my cat back to her origina...</td>\n",
       "      <td>7994</td>\n",
       "    </tr>\n",
       "  </tbody>\n",
       "</table>\n",
       "</div>"
      ],
      "text/plain": [
       "                                                  title  score\n",
       "1462  AITA for staying in a hotel because my parents...   5596\n",
       "2235   AITA for not touching bf when he doesn’t shower?   2017\n",
       "213   AITA for refusing to give my ex’s emergency nu...   2060\n",
       "625   AITA for ‘embarrassing and traumatising’ my da...   4133\n",
       "1684  AITA for telling my wife to stop making our da...   2664\n",
       "1702  AITA for not letting my fiancé drive my car af...   3708\n",
       "393   AITA For no longer saving money for my stepdau...   6256\n",
       "1188  AITA for wearing a “political” shirt to my SOs...   2135\n",
       "1872  AITA for going out to eat with friends despite...   2709\n",
       "1289  AITA for not giving my cat back to her origina...   7994"
      ]
     },
     "execution_count": 22,
     "metadata": {},
     "output_type": "execute_result"
    }
   ],
   "source": [
    "aita_submissions[['title', 'score']].sample(10)"
   ]
  },
  {
   "cell_type": "markdown",
   "id": "97116d18",
   "metadata": {},
   "source": [
    "Only select columns of interest and assign to a new dataframe."
   ]
  },
  {
   "cell_type": "code",
   "execution_count": 24,
   "id": "dab515aa",
   "metadata": {},
   "outputs": [
    {
     "data": {
      "text/html": [
       "<div>\n",
       "<style scoped>\n",
       "    .dataframe tbody tr th:only-of-type {\n",
       "        vertical-align: middle;\n",
       "    }\n",
       "\n",
       "    .dataframe tbody tr th {\n",
       "        vertical-align: top;\n",
       "    }\n",
       "\n",
       "    .dataframe thead th {\n",
       "        text-align: right;\n",
       "    }\n",
       "</style>\n",
       "<table border=\"1\" class=\"dataframe\">\n",
       "  <thead>\n",
       "    <tr style=\"text-align: right;\">\n",
       "      <th></th>\n",
       "      <th>author</th>\n",
       "      <th>title</th>\n",
       "      <th>selftext</th>\n",
       "      <th>url</th>\n",
       "      <th>subreddit</th>\n",
       "      <th>score</th>\n",
       "      <th>num_comments</th>\n",
       "      <th>num_crossposts</th>\n",
       "    </tr>\n",
       "  </thead>\n",
       "  <tbody>\n",
       "    <tr>\n",
       "      <th>0</th>\n",
       "      <td>57996A4333</td>\n",
       "      <td>AITA for revealing to my wife's family we didn...</td>\n",
       "      <td>EDIT/ I didn't know about what my wife was doi...</td>\n",
       "      <td>https://www.reddit.com/r/AmItheAsshole/comment...</td>\n",
       "      <td>AmItheAsshole</td>\n",
       "      <td>3650</td>\n",
       "      <td>2373</td>\n",
       "      <td>1</td>\n",
       "    </tr>\n",
       "    <tr>\n",
       "      <th>1</th>\n",
       "      <td>Glittering_Sun_554</td>\n",
       "      <td>AITA for telling my husband I won’t be calling...</td>\n",
       "      <td>I’m currently 38+2 days pregnant and expected ...</td>\n",
       "      <td>https://www.reddit.com/r/AmItheAsshole/comment...</td>\n",
       "      <td>AmItheAsshole</td>\n",
       "      <td>2944</td>\n",
       "      <td>1419</td>\n",
       "      <td>1</td>\n",
       "    </tr>\n",
       "    <tr>\n",
       "      <th>2</th>\n",
       "      <td>Spiritual_Weekend_78</td>\n",
       "      <td>AITA because I didn't let my daughter skip a g...</td>\n",
       "      <td>My kids are Jonah (14M) and Emma (12F) and my ...</td>\n",
       "      <td>https://www.reddit.com/r/AmItheAsshole/comment...</td>\n",
       "      <td>AmItheAsshole</td>\n",
       "      <td>4461</td>\n",
       "      <td>5638</td>\n",
       "      <td>2</td>\n",
       "    </tr>\n",
       "    <tr>\n",
       "      <th>3</th>\n",
       "      <td>Additional_Whereas_6</td>\n",
       "      <td>UPDATE: AITA for booking to go away the same t...</td>\n",
       "      <td>Not sure if anyone really wanted an update but...</td>\n",
       "      <td>https://www.reddit.com/r/AmItheAsshole/comment...</td>\n",
       "      <td>AmItheAsshole</td>\n",
       "      <td>8481</td>\n",
       "      <td>1819</td>\n",
       "      <td>1</td>\n",
       "    </tr>\n",
       "    <tr>\n",
       "      <th>4</th>\n",
       "      <td>throwaway-o10</td>\n",
       "      <td>AITA for moving out because my bf won’t do any...</td>\n",
       "      <td>My bf and I moved in together at the start of ...</td>\n",
       "      <td>https://www.reddit.com/r/AmItheAsshole/comment...</td>\n",
       "      <td>AmItheAsshole</td>\n",
       "      <td>2462</td>\n",
       "      <td>1369</td>\n",
       "      <td>0</td>\n",
       "    </tr>\n",
       "    <tr>\n",
       "      <th>...</th>\n",
       "      <td>...</td>\n",
       "      <td>...</td>\n",
       "      <td>...</td>\n",
       "      <td>...</td>\n",
       "      <td>...</td>\n",
       "      <td>...</td>\n",
       "      <td>...</td>\n",
       "      <td>...</td>\n",
       "    </tr>\n",
       "    <tr>\n",
       "      <th>2582</th>\n",
       "      <td>kleen_next</td>\n",
       "      <td>AITA for shutting off the power to my neighbor...</td>\n",
       "      <td>I live in a building where the breaker box is ...</td>\n",
       "      <td>https://www.reddit.com/r/AmItheAsshole/comment...</td>\n",
       "      <td>AmItheAsshole</td>\n",
       "      <td>2330</td>\n",
       "      <td>200</td>\n",
       "      <td>0</td>\n",
       "    </tr>\n",
       "    <tr>\n",
       "      <th>2583</th>\n",
       "      <td>BackgroundJellyfish</td>\n",
       "      <td>AITA for hitting my girlfriend out of reflex f...</td>\n",
       "      <td>Hi, so my girlfriend and i watched a horror mo...</td>\n",
       "      <td>https://www.reddit.com/r/AmItheAsshole/comment...</td>\n",
       "      <td>AmItheAsshole</td>\n",
       "      <td>2719</td>\n",
       "      <td>405</td>\n",
       "      <td>1</td>\n",
       "    </tr>\n",
       "    <tr>\n",
       "      <th>2584</th>\n",
       "      <td>Marylebone_Road</td>\n",
       "      <td>AITA for thinking that this sub is only so peo...</td>\n",
       "      <td></td>\n",
       "      <td>https://www.reddit.com/r/AmItheAsshole/comment...</td>\n",
       "      <td>AmItheAsshole</td>\n",
       "      <td>2001</td>\n",
       "      <td>104</td>\n",
       "      <td>0</td>\n",
       "    </tr>\n",
       "    <tr>\n",
       "      <th>2585</th>\n",
       "      <td>grizzythekid</td>\n",
       "      <td>AITA for throwing a soda on the ground near th...</td>\n",
       "      <td>I was going to McDonald's for a quick bite to ...</td>\n",
       "      <td>https://www.reddit.com/r/AmItheAsshole/comment...</td>\n",
       "      <td>AmItheAsshole</td>\n",
       "      <td>3532</td>\n",
       "      <td>90</td>\n",
       "      <td>0</td>\n",
       "    </tr>\n",
       "    <tr>\n",
       "      <th>2586</th>\n",
       "      <td>Pettheftthrow</td>\n",
       "      <td>AITA for refusing to return a lost pet?</td>\n",
       "      <td>So over two years ago a cat appeared in my yar...</td>\n",
       "      <td>https://www.reddit.com/r/AmItheAsshole/comment...</td>\n",
       "      <td>AmItheAsshole</td>\n",
       "      <td>2387</td>\n",
       "      <td>169</td>\n",
       "      <td>0</td>\n",
       "    </tr>\n",
       "  </tbody>\n",
       "</table>\n",
       "<p>2587 rows × 8 columns</p>\n",
       "</div>"
      ],
      "text/plain": [
       "                    author                                              title  \\\n",
       "0               57996A4333  AITA for revealing to my wife's family we didn...   \n",
       "1       Glittering_Sun_554  AITA for telling my husband I won’t be calling...   \n",
       "2     Spiritual_Weekend_78  AITA because I didn't let my daughter skip a g...   \n",
       "3     Additional_Whereas_6  UPDATE: AITA for booking to go away the same t...   \n",
       "4            throwaway-o10  AITA for moving out because my bf won’t do any...   \n",
       "...                    ...                                                ...   \n",
       "2582            kleen_next  AITA for shutting off the power to my neighbor...   \n",
       "2583   BackgroundJellyfish  AITA for hitting my girlfriend out of reflex f...   \n",
       "2584       Marylebone_Road  AITA for thinking that this sub is only so peo...   \n",
       "2585          grizzythekid  AITA for throwing a soda on the ground near th...   \n",
       "2586         Pettheftthrow            AITA for refusing to return a lost pet?   \n",
       "\n",
       "                                               selftext  \\\n",
       "0     EDIT/ I didn't know about what my wife was doi...   \n",
       "1     I’m currently 38+2 days pregnant and expected ...   \n",
       "2     My kids are Jonah (14M) and Emma (12F) and my ...   \n",
       "3     Not sure if anyone really wanted an update but...   \n",
       "4     My bf and I moved in together at the start of ...   \n",
       "...                                                 ...   \n",
       "2582  I live in a building where the breaker box is ...   \n",
       "2583  Hi, so my girlfriend and i watched a horror mo...   \n",
       "2584                                                      \n",
       "2585  I was going to McDonald's for a quick bite to ...   \n",
       "2586  So over two years ago a cat appeared in my yar...   \n",
       "\n",
       "                                                    url      subreddit  score  \\\n",
       "0     https://www.reddit.com/r/AmItheAsshole/comment...  AmItheAsshole   3650   \n",
       "1     https://www.reddit.com/r/AmItheAsshole/comment...  AmItheAsshole   2944   \n",
       "2     https://www.reddit.com/r/AmItheAsshole/comment...  AmItheAsshole   4461   \n",
       "3     https://www.reddit.com/r/AmItheAsshole/comment...  AmItheAsshole   8481   \n",
       "4     https://www.reddit.com/r/AmItheAsshole/comment...  AmItheAsshole   2462   \n",
       "...                                                 ...            ...    ...   \n",
       "2582  https://www.reddit.com/r/AmItheAsshole/comment...  AmItheAsshole   2330   \n",
       "2583  https://www.reddit.com/r/AmItheAsshole/comment...  AmItheAsshole   2719   \n",
       "2584  https://www.reddit.com/r/AmItheAsshole/comment...  AmItheAsshole   2001   \n",
       "2585  https://www.reddit.com/r/AmItheAsshole/comment...  AmItheAsshole   3532   \n",
       "2586  https://www.reddit.com/r/AmItheAsshole/comment...  AmItheAsshole   2387   \n",
       "\n",
       "      num_comments  num_crossposts  \n",
       "0             2373               1  \n",
       "1             1419               1  \n",
       "2             5638               2  \n",
       "3             1819               1  \n",
       "4             1369               0  \n",
       "...            ...             ...  \n",
       "2582           200               0  \n",
       "2583           405               1  \n",
       "2584           104               0  \n",
       "2585            90               0  \n",
       "2586           169               0  \n",
       "\n",
       "[2587 rows x 8 columns]"
      ]
     },
     "execution_count": 24,
     "metadata": {},
     "output_type": "execute_result"
    }
   ],
   "source": [
    "aita_final = aita_submissions[['author', 'title', 'selftext', 'url', 'subreddit', 'score', 'num_comments', 'num_crossposts']]\n",
    "\n",
    "aita_final"
   ]
  },
  {
   "cell_type": "markdown",
   "id": "12a7fa1d",
   "metadata": {},
   "source": [
    "Now, we can export our finalized cleaned dataframe into a csv file."
   ]
  },
  {
   "cell_type": "code",
   "execution_count": 25,
   "id": "c17156f6",
   "metadata": {},
   "outputs": [],
   "source": [
    "aita_final.to_csv(\"aita_final.csv\", encoding='utf-8', index=False)"
   ]
  },
  {
   "cell_type": "markdown",
   "id": "d99ac586",
   "metadata": {},
   "source": [
    "## Collect Reddit submissions based on search keyword (with more than a certain upvote score)\n",
    "\n",
    "Set up generator to make API request"
   ]
  },
  {
   "cell_type": "code",
   "execution_count": 26,
   "id": "662f3bd2",
   "metadata": {},
   "outputs": [],
   "source": [
    "api_request_generator = api.search_submissions(q='Cornell', score = \">2000\")"
   ]
  },
  {
   "cell_type": "markdown",
   "id": "eddd49cb",
   "metadata": {},
   "source": [
    "Grab data for each Reddit submission and make into a DataFrame"
   ]
  },
  {
   "cell_type": "code",
   "execution_count": 27,
   "id": "64a1d0d7",
   "metadata": {},
   "outputs": [
    {
     "name": "stderr",
     "output_type": "stream",
     "text": [
      "/opt/homebrew/lib/python3.9/site-packages/psaw/PushshiftAPI.py:252: UserWarning: Not all PushShift shards are active. Query results may be incomplete\n",
      "  warnings.warn(shards_down_message)\n"
     ]
    },
    {
     "data": {
      "text/plain": [
       "(93, 87)"
      ]
     },
     "execution_count": 27,
     "metadata": {},
     "output_type": "execute_result"
    }
   ],
   "source": [
    "cornell_submissions = pd.DataFrame([submission.d_ for submission in api_request_generator])\n",
    "cornell_submissions.shape"
   ]
  },
  {
   "cell_type": "code",
   "execution_count": 28,
   "id": "f51d1b7c",
   "metadata": {},
   "outputs": [
    {
     "data": {
      "text/html": [
       "<div>\n",
       "<style scoped>\n",
       "    .dataframe tbody tr th:only-of-type {\n",
       "        vertical-align: middle;\n",
       "    }\n",
       "\n",
       "    .dataframe tbody tr th {\n",
       "        vertical-align: top;\n",
       "    }\n",
       "\n",
       "    .dataframe thead th {\n",
       "        text-align: right;\n",
       "    }\n",
       "</style>\n",
       "<table border=\"1\" class=\"dataframe\">\n",
       "  <thead>\n",
       "    <tr style=\"text-align: right;\">\n",
       "      <th></th>\n",
       "      <th>author</th>\n",
       "      <th>title</th>\n",
       "      <th>selftext</th>\n",
       "      <th>url</th>\n",
       "      <th>subreddit</th>\n",
       "      <th>score</th>\n",
       "      <th>num_comments</th>\n",
       "      <th>num_crossposts</th>\n",
       "    </tr>\n",
       "  </thead>\n",
       "  <tbody>\n",
       "    <tr>\n",
       "      <th>0</th>\n",
       "      <td>ccwarrenator</td>\n",
       "      <td>My Grandpa fought in WW2, was a chemistry prof...</td>\n",
       "      <td></td>\n",
       "      <td>https://i.redd.it/7ynkr3hyeze61.jpg</td>\n",
       "      <td>OldSchoolCool</td>\n",
       "      <td>11639</td>\n",
       "      <td>270</td>\n",
       "      <td>1.0</td>\n",
       "    </tr>\n",
       "    <tr>\n",
       "      <th>1</th>\n",
       "      <td>the_light_of_dawn</td>\n",
       "      <td>Reggie's Lecture At Cornell: Reggie Calls Wii ...</td>\n",
       "      <td></td>\n",
       "      <td>https://www.resetera.com/threads/reggies-lectu...</td>\n",
       "      <td>NintendoSwitch</td>\n",
       "      <td>3410</td>\n",
       "      <td>363</td>\n",
       "      <td>0.0</td>\n",
       "    </tr>\n",
       "    <tr>\n",
       "      <th>2</th>\n",
       "      <td>evaee00</td>\n",
       "      <td>Can you please not apply to Cornell? My son wa...</td>\n",
       "      <td>So this is a story that happened to my friend ...</td>\n",
       "      <td>https://www.reddit.com/r/entitledparents/comme...</td>\n",
       "      <td>entitledparents</td>\n",
       "      <td>11375</td>\n",
       "      <td>241</td>\n",
       "      <td>0.0</td>\n",
       "    </tr>\n",
       "    <tr>\n",
       "      <th>3</th>\n",
       "      <td>BoomWhatWhat</td>\n",
       "      <td>Cornell will eliminate medical school debt for...</td>\n",
       "      <td></td>\n",
       "      <td>https://www.cnn.com/2019/09/17/us/cornell-scho...</td>\n",
       "      <td>news</td>\n",
       "      <td>44406</td>\n",
       "      <td>2220</td>\n",
       "      <td>0.0</td>\n",
       "    </tr>\n",
       "    <tr>\n",
       "      <th>4</th>\n",
       "      <td>SirCSquared</td>\n",
       "      <td>I took this photo at the last Soundgarden conc...</td>\n",
       "      <td></td>\n",
       "      <td>https://i.redd.it/op394mbhgkd31.jpg</td>\n",
       "      <td>lastimages</td>\n",
       "      <td>4759</td>\n",
       "      <td>185</td>\n",
       "      <td>0.0</td>\n",
       "    </tr>\n",
       "    <tr>\n",
       "      <th>...</th>\n",
       "      <td>...</td>\n",
       "      <td>...</td>\n",
       "      <td>...</td>\n",
       "      <td>...</td>\n",
       "      <td>...</td>\n",
       "      <td>...</td>\n",
       "      <td>...</td>\n",
       "      <td>...</td>\n",
       "    </tr>\n",
       "    <tr>\n",
       "      <th>88</th>\n",
       "      <td>SXS_Blackholes</td>\n",
       "      <td>Science AMA Series: We are graduate students a...</td>\n",
       "      <td>We work in the field of numerical relativity, ...</td>\n",
       "      <td>http://www.reddit.com/r/science/comments/2l259...</td>\n",
       "      <td>science</td>\n",
       "      <td>3272</td>\n",
       "      <td>883</td>\n",
       "      <td>NaN</td>\n",
       "    </tr>\n",
       "    <tr>\n",
       "      <th>89</th>\n",
       "      <td>mubukugrappa</td>\n",
       "      <td>The larger your friends, the larger your appet...</td>\n",
       "      <td></td>\n",
       "      <td>http://foodpsychology.cornell.edu/op/the_fat_s...</td>\n",
       "      <td>science</td>\n",
       "      <td>3456</td>\n",
       "      <td>560</td>\n",
       "      <td>NaN</td>\n",
       "    </tr>\n",
       "    <tr>\n",
       "      <th>90</th>\n",
       "      <td>wpiman</td>\n",
       "      <td>My buddy is a third generation Cornell grad. H...</td>\n",
       "      <td></td>\n",
       "      <td>http://www.livememe.com/d2k1qn5</td>\n",
       "      <td>AdviceAnimals</td>\n",
       "      <td>3085</td>\n",
       "      <td>883</td>\n",
       "      <td>NaN</td>\n",
       "    </tr>\n",
       "    <tr>\n",
       "      <th>91</th>\n",
       "      <td>A_Ninjas_Fart</td>\n",
       "      <td>Scientists at Cornell develop technique that k...</td>\n",
       "      <td></td>\n",
       "      <td>http://www.voanews.com/content/scientists-deve...</td>\n",
       "      <td>science</td>\n",
       "      <td>2821</td>\n",
       "      <td>319</td>\n",
       "      <td>NaN</td>\n",
       "    </tr>\n",
       "    <tr>\n",
       "      <th>92</th>\n",
       "      <td>frogmentation</td>\n",
       "      <td>Cornell study discovers parrots name their chicks</td>\n",
       "      <td></td>\n",
       "      <td>http://www.news.cornell.edu/stories/July11/Par...</td>\n",
       "      <td>science</td>\n",
       "      <td>2221</td>\n",
       "      <td>177</td>\n",
       "      <td>NaN</td>\n",
       "    </tr>\n",
       "  </tbody>\n",
       "</table>\n",
       "<p>93 rows × 8 columns</p>\n",
       "</div>"
      ],
      "text/plain": [
       "               author                                              title  \\\n",
       "0        ccwarrenator  My Grandpa fought in WW2, was a chemistry prof...   \n",
       "1   the_light_of_dawn  Reggie's Lecture At Cornell: Reggie Calls Wii ...   \n",
       "2             evaee00  Can you please not apply to Cornell? My son wa...   \n",
       "3        BoomWhatWhat  Cornell will eliminate medical school debt for...   \n",
       "4         SirCSquared  I took this photo at the last Soundgarden conc...   \n",
       "..                ...                                                ...   \n",
       "88     SXS_Blackholes  Science AMA Series: We are graduate students a...   \n",
       "89       mubukugrappa  The larger your friends, the larger your appet...   \n",
       "90             wpiman  My buddy is a third generation Cornell grad. H...   \n",
       "91      A_Ninjas_Fart  Scientists at Cornell develop technique that k...   \n",
       "92      frogmentation  Cornell study discovers parrots name their chicks   \n",
       "\n",
       "                                             selftext  \\\n",
       "0                                                       \n",
       "1                                                       \n",
       "2   So this is a story that happened to my friend ...   \n",
       "3                                                       \n",
       "4                                                       \n",
       "..                                                ...   \n",
       "88  We work in the field of numerical relativity, ...   \n",
       "89                                                      \n",
       "90                                                      \n",
       "91                                                      \n",
       "92                                                      \n",
       "\n",
       "                                                  url        subreddit  score  \\\n",
       "0                 https://i.redd.it/7ynkr3hyeze61.jpg    OldSchoolCool  11639   \n",
       "1   https://www.resetera.com/threads/reggies-lectu...   NintendoSwitch   3410   \n",
       "2   https://www.reddit.com/r/entitledparents/comme...  entitledparents  11375   \n",
       "3   https://www.cnn.com/2019/09/17/us/cornell-scho...             news  44406   \n",
       "4                 https://i.redd.it/op394mbhgkd31.jpg       lastimages   4759   \n",
       "..                                                ...              ...    ...   \n",
       "88  http://www.reddit.com/r/science/comments/2l259...          science   3272   \n",
       "89  http://foodpsychology.cornell.edu/op/the_fat_s...          science   3456   \n",
       "90                    http://www.livememe.com/d2k1qn5    AdviceAnimals   3085   \n",
       "91  http://www.voanews.com/content/scientists-deve...          science   2821   \n",
       "92  http://www.news.cornell.edu/stories/July11/Par...          science   2221   \n",
       "\n",
       "    num_comments  num_crossposts  \n",
       "0            270             1.0  \n",
       "1            363             0.0  \n",
       "2            241             0.0  \n",
       "3           2220             0.0  \n",
       "4            185             0.0  \n",
       "..           ...             ...  \n",
       "88           883             NaN  \n",
       "89           560             NaN  \n",
       "90           883             NaN  \n",
       "91           319             NaN  \n",
       "92           177             NaN  \n",
       "\n",
       "[93 rows x 8 columns]"
      ]
     },
     "execution_count": 28,
     "metadata": {},
     "output_type": "execute_result"
    }
   ],
   "source": [
    "cornell_submissions[['author', 'title', 'selftext', 'url', 'subreddit', 'score', 'num_comments', 'num_crossposts']]"
   ]
  },
  {
   "cell_type": "markdown",
   "id": "5a4463fd",
   "metadata": {},
   "source": [
    "Where are the popular \"Cornell\" Reddit posts appearing?"
   ]
  },
  {
   "cell_type": "code",
   "execution_count": 29,
   "id": "93251a3b",
   "metadata": {},
   "outputs": [
    {
     "data": {
      "text/plain": [
       "science                 17\n",
       "The_Donald               7\n",
       "IAmA                     7\n",
       "todayilearned            6\n",
       "Music                    4\n",
       "SandersForPresident      3\n",
       "videos                   3\n",
       "askscience               3\n",
       "OldSchoolCool            3\n",
       "news                     3\n",
       "movies                   2\n",
       "lastimages               2\n",
       "Showerthoughts           2\n",
       "politics                 2\n",
       "InternetIsBeautiful      2\n",
       "LadyBoners               1\n",
       "lego                     1\n",
       "interestingasfuck        1\n",
       "Guitar                   1\n",
       "coolguides               1\n",
       "bidenbro                 1\n",
       "EarthPorn                1\n",
       "KotakuInAction           1\n",
       "westworld                1\n",
       "AskHistorians            1\n",
       "uncensorednews           1\n",
       "Metal                    1\n",
       "RetroFuturism            1\n",
       "SeattleWA                1\n",
       "pics                     1\n",
       "NintendoSwitch           1\n",
       "relationships            1\n",
       "CFB                      1\n",
       "tattoos                  1\n",
       "offmychest               1\n",
       "AmItheAsshole            1\n",
       "Damnthatsinteresting     1\n",
       "Awwducational            1\n",
       "unpopularopinion         1\n",
       "DunderMifflin            1\n",
       "entitledparents          1\n",
       "AdviceAnimals            1\n",
       "Name: subreddit, dtype: int64"
      ]
     },
     "execution_count": 29,
     "metadata": {},
     "output_type": "execute_result"
    }
   ],
   "source": [
    "cornell_submissions['subreddit'].value_counts()"
   ]
  },
  {
   "cell_type": "code",
   "execution_count": 34,
   "id": "8e3c9249",
   "metadata": {},
   "outputs": [
    {
     "data": {
      "image/png": "[encoded data removed]",
      "text/plain": [
       "<Figure size 432x288 with 1 Axes>"
      ]
     },
     "metadata": {
      "needs_background": "light"
     },
     "output_type": "display_data"
    }
   ],
   "source": [
    "cornell_submissions['subreddit'].value_counts()[:10].plot(kind='bar')\n",
    "plt.show()"
   ]
  },
  {
   "cell_type": "markdown",
   "id": "69616f44",
   "metadata": {},
   "source": [
    "## Twitter\n",
    "We're going to collect Twitter data with the Python/command line tool [twarc](https://github.com/DocNow/twarc). This tool was developed by a project called Documenting the Now. The DocNow team develops tools and ethical frameworks for social media research."
   ]
  },
  {
   "cell_type": "code",
   "execution_count": 91,
   "id": "f0702410",
   "metadata": {},
   "outputs": [
    {
     "name": "stdout",
     "output_type": "stream",
     "text": [
      "\u001b[33mDEPRECATION: Configuring installation scheme with distutils config files is deprecated and will no longer work in the near future. If you are using a Homebrew or Linuxbrew Python, please see discussion at https://github.com/Homebrew/homebrew-core/issues/76621\u001b[0m\n",
      "Requirement already satisfied: twarc in /opt/homebrew/lib/python3.9/site-packages (2.4.3)\n",
      "Requirement already satisfied: click in /opt/homebrew/lib/python3.9/site-packages (from twarc) (8.0.1)\n",
      "Requirement already satisfied: python-dateutil in /opt/homebrew/lib/python3.9/site-packages (from twarc) (2.8.2)\n",
      "Requirement already satisfied: tqdm in /opt/homebrew/lib/python3.9/site-packages (from twarc) (4.62.2)\n",
      "Requirement already satisfied: click-plugins in /opt/homebrew/lib/python3.9/site-packages (from twarc) (1.1.1)\n",
      "Requirement already satisfied: click-config-file in /opt/homebrew/lib/python3.9/site-packages (from twarc) (0.6.0)\n",
      "Requirement already satisfied: humanize in /opt/homebrew/lib/python3.9/site-packages (from twarc) (3.11.0)\n",
      "Requirement already satisfied: requests-oauthlib in /opt/homebrew/lib/python3.9/site-packages (from twarc) (1.3.0)\n",
      "Requirement already satisfied: configobj>=5.0.6 in /opt/homebrew/lib/python3.9/site-packages (from click-config-file->twarc) (5.0.6)\n",
      "Requirement already satisfied: six in /opt/homebrew/lib/python3.9/site-packages (from configobj>=5.0.6->click-config-file->twarc) (1.16.0)\n",
      "Requirement already satisfied: setuptools in /opt/homebrew/lib/python3.9/site-packages (from humanize->twarc) (57.0.0)\n",
      "Requirement already satisfied: requests>=2.0.0 in /opt/homebrew/lib/python3.9/site-packages (from requests-oauthlib->twarc) (2.26.0)\n",
      "Requirement already satisfied: oauthlib>=3.0.0 in /opt/homebrew/lib/python3.9/site-packages (from requests-oauthlib->twarc) (3.1.1)\n",
      "Requirement already satisfied: charset-normalizer~=2.0.0 in /opt/homebrew/lib/python3.9/site-packages (from requests>=2.0.0->requests-oauthlib->twarc) (2.0.4)\n",
      "Requirement already satisfied: idna<4,>=2.5 in /opt/homebrew/lib/python3.9/site-packages (from requests>=2.0.0->requests-oauthlib->twarc) (3.2)\n",
      "Requirement already satisfied: urllib3<1.27,>=1.21.1 in /opt/homebrew/lib/python3.9/site-packages (from requests>=2.0.0->requests-oauthlib->twarc) (1.26.6)\n",
      "Requirement already satisfied: certifi>=2017.4.17 in /opt/homebrew/lib/python3.9/site-packages (from requests>=2.0.0->requests-oauthlib->twarc) (2021.5.30)\n"
     ]
    }
   ],
   "source": [
    "!pip3 install twarc"
   ]
  },
  {
   "cell_type": "markdown",
   "id": "25bb245c",
   "metadata": {},
   "source": [
    "## Twitter API Keys\n",
    "Because twarc relies on Twitter's API, we need to apply for a Twitter developer account and create a Twitter application before we use it. You can find instructions for the application process and for installing and configuring twarc here: Twitter Collection Setup.\n",
    "\n",
    "You can configure twarc by running twarc configure on the command line, or you can type your Twitter handle (without the @ symbol) and API keys into the quotation marks below and run the cell.\n",
    "\n",
    "🚨 Skip running this cell if you've already configured twarc!! 🚨"
   ]
  },
  {
   "cell_type": "code",
   "execution_count": 98,
   "id": "8a5fccd2",
   "metadata": {},
   "outputs": [],
   "source": [
    "#Insert Your Twitter API Info here\n",
    "\n",
    "twitter_handle = \"danagong8\"\n",
    "consumer_key= \"\"\n",
    "consumer_secret = \"\"\n",
    "access_token = \"\"\n",
    "access_token_secret= \"\"\n",
    "\n",
    "#The Code That Will Configure Twarc\n",
    "configuration = f\"\"\"[{twitter_handle}]\n",
    "consumer_key={consumer_key}\n",
    "consumer_secret = {consumer_secret}\n",
    "access_token = {access_token}\n",
    "access_token_secret= {access_token_secret}\n",
    "\"\"\"\n",
    "\n",
    "import os\n",
    "config_filename = os.path.join(os.path.expanduser(\"~\"), \".twarc\")\n",
    "with open(config_filename, \"w\") as file_object:\n",
    "    file_object.write(configuration)"
   ]
  },
  {
   "cell_type": "markdown",
   "id": "227e115f",
   "metadata": {},
   "source": [
    "### Collect Tweets From Past 7 days¶\n",
    "With the free version of the Twitter API, there are basically two ways to collect your own Twitter data: in real time or ~7 days in the past. To get data any further in the past requires a paid version of the Twitter API. We're going to demonstrate how to collect Twitter data from the past ~7 days, but you can explore the other functionalities of Twarc by reading through the documentation.\n",
    "\n",
    "## Usage\n",
    "twarc search \"cornell\" > cornell_search.jsonl\n",
    "\n",
    "To collect tweets from approximately 7 days in the past, you can use the command twarc search, followed by a search query, then the output operator > and a filename of your choosing with the \".jsonl\" file extension (which outputs your Twitter data to this JSONL file).\n",
    "\n",
    "Search for tweets that mention \"cornell\" but only from verified accounts"
   ]
  },
  {
   "cell_type": "code",
   "execution_count": 93,
   "id": "1e5fb9a8",
   "metadata": {},
   "outputs": [],
   "source": [
    "!twarc search \"cornell filter:verified\" > cornell_search.jsonl"
   ]
  },
  {
   "cell_type": "markdown",
   "id": "c7166260",
   "metadata": {},
   "source": [
    "How many tweets were collected?"
   ]
  },
  {
   "cell_type": "code",
   "execution_count": 94,
   "id": "5693babf",
   "metadata": {},
   "outputs": [
    {
     "name": "stdout",
     "output_type": "stream",
     "text": [
      "     649 cornell_search.jsonl\r\n"
     ]
    }
   ],
   "source": [
    "!wc -l cornell_search.jsonl\n",
    "# windows - \n",
    "#!find /v /c \"\" cornell_search.jsonl"
   ]
  },
  {
   "cell_type": "code",
   "execution_count": 95,
   "id": "d6455201",
   "metadata": {},
   "outputs": [
    {
     "name": "stdout",
     "output_type": "stream",
     "text": [
      "\u001b[33mDEPRECATION: Configuring installation scheme with distutils config files is deprecated and will no longer work in the near future. If you are using a Homebrew or Linuxbrew Python, please see discussion at https://github.com/Homebrew/homebrew-core/issues/76621\u001b[0m\r\n",
      "Requirement already satisfied: python-json2csv in /opt/homebrew/lib/python3.9/site-packages (0.2.0)\r\n",
      "Requirement already satisfied: click in /opt/homebrew/lib/python3.9/site-packages (from python-json2csv) (8.0.1)\r\n"
     ]
    }
   ],
   "source": [
    "!pip3 install python-json2csv"
   ]
  },
  {
   "cell_type": "markdown",
   "id": "647d55f3",
   "metadata": {},
   "source": [
    "Run this comamand if your python and pip are using the same version. To check, go into your terminal and type python -V and then pip -V. They should use the same version of pythong.\n",
    "\n",
    "`!python twarc/utils/json2csv.py cornell_search.jsonl > cornell_search.csv`"
   ]
  },
  {
   "cell_type": "code",
   "execution_count": 96,
   "id": "27722967",
   "metadata": {},
   "outputs": [
    {
     "name": "stdout",
     "output_type": "stream",
     "text": [
      "Traceback (most recent call last):\r\n",
      "  File \"twarc/utils/json2csv.py\", line 8, in <module>\r\n",
      "    from twarc import json2csv\r\n",
      "ImportError: No module named twarc\r\n"
     ]
    }
   ],
   "source": [
    "!python twarc/utils/json2csv.py cornell_search.jsonl > cornell_search.csv"
   ]
  },
  {
   "cell_type": "code",
   "execution_count": 97,
   "id": "99b54652",
   "metadata": {},
   "outputs": [
    {
     "name": "stdout",
     "output_type": "stream",
     "text": [
      "/opt/homebrew/lib/python3.9/site-packages/twarc/__init__.py\n"
     ]
    }
   ],
   "source": [
    "import twarc\n",
    "print(twarc.__file__)\n"
   ]
  },
  {
   "cell_type": "code",
   "execution_count": null,
   "id": "0a7170f8",
   "metadata": {},
   "outputs": [],
   "source": []
  }
 ],
 "metadata": {
  "kernelspec": {
   "display_name": "Python 3 (ipykernel)",
   "language": "python",
   "name": "python3"
  },
  "language_info": {
   "codemirror_mode": {
    "name": "ipython",
    "version": 3
   },
   "file_extension": ".py",
   "mimetype": "text/x-python",
   "name": "python",
   "nbconvert_exporter": "python",
   "pygments_lexer": "ipython3",
   "version": "3.9.6"
  }
 },
 "nbformat": 4,
 "nbformat_minor": 5
}
