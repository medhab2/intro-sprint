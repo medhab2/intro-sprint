{
 "cells": [
  {
   "cell_type": "markdown",
   "id": "dbffc749",
   "metadata": {},
   "source": [
    "### **Intro Sprint #1**\n",
    "# Data Collection and Cleaning with Jupyter \n",
    "\n",
    "## Introduction to Jupyter Notebook\n",
    "\n",
    "Jupyter Notebook is a really easy and user friendly way to experiment with Python code, combining code with notes and documentation. You can do all of this without having use the command line, and the resulting file can be easily published and shared with other people.\n",
    "\n",
    "An Jupyter Notebook consists of a number of \"cells,\" stacked on the page from top to bottom. Cells can have text or code in them. You can change a cell's type using the \"Cell\" menu at the top of the page; go to Cell > Cell Type and select either Code for Python code or Markdown for text. (You can also change this for the current cell using the drop-down menu in the toolbar.)\n",
    "\n",
    "#### Text Cells\n",
    "Make a new cell, change its type to Markdown, type some stuff and click run. Jupyter Notebook will \"render\" the text and display it on the page in rendered format. You can hit Enter or click in the cell to edit its contents again. Text in Markdown cells is rendered according to a set of conventions called Markdown, a language for marking up text using formatting instructions.\n",
    "\n",
    "#### Code Cells\n"
   ]
  },
  {
   "cell_type": "code",
   "execution_count": 50,
   "id": "5632dbab",
   "metadata": {},
   "outputs": [
    {
     "name": "stdout",
     "output_type": "stream",
     "text": [
      "This is a code cell.\n",
      "\n",
      "Any Python code you type in this cell will be run when you press the 'Run' button,\n"
     ]
    }
   ],
   "source": [
    "print(\"This is a code cell.\")\n",
    "print(\"\")\n",
    "print(\"Any Python code you type in this cell will be run when you press the 'Run' button,\")"
   ]
  },
  {
   "cell_type": "markdown",
   "id": "a9476ba0",
   "metadata": {},
   "source": [
    "You can define variables or import modules in one code cell and it will be available for you to in all subsequent code cells."
   ]
  },
  {
   "cell_type": "code",
   "execution_count": 51,
   "id": "287955dc",
   "metadata": {},
   "outputs": [],
   "source": [
    "import random\n",
    "animals = [\"dog\", \"cat\", \"elephant\", \"zebra\"]"
   ]
  },
  {
   "cell_type": "markdown",
   "id": "5f05273a",
   "metadata": {},
   "source": [
    "Now, you can use the list of animals and the random module in the cell below."
   ]
  },
  {
   "cell_type": "code",
   "execution_count": 52,
   "id": "dcdd1542",
   "metadata": {},
   "outputs": [
    {
     "name": "stdout",
     "output_type": "stream",
     "text": [
      "dog\n"
     ]
    }
   ],
   "source": [
    "print(random.choice(animals))"
   ]
  },
  {
   "cell_type": "markdown",
   "id": "e0308770",
   "metadata": {},
   "source": [
    "## Python Modules\n",
    "\n",
    "Modules refer to a file containing Python statements and definitions. Above, we imported the random module which has many functions for randomizing distributions of numbers. We used the choice function which returns a random element from a sequence.\n",
    "\n",
    "Throughout, we will be using common modules."
   ]
  },
  {
   "cell_type": "code",
   "execution_count": 53,
   "id": "669939a9",
   "metadata": {},
   "outputs": [],
   "source": [
    "import numpy as np\n",
    "import matplotlib.pyplot as plt\n",
    "import pandas as pd"
   ]
  },
  {
   "cell_type": "markdown",
   "id": "51e6e4ba",
   "metadata": {},
   "source": [
    "\n",
    "## Data Collection\n",
    "\n",
    "For the purposes of our introductory sprint, we will be collecting data either through importing a csv file or web scraping (specifically with social media), but we will focus on web scraping in a later notebook.\n",
    "\n",
    "In this, we will be using a dataset on poverty measures in New York City. This data was downloaded from [NYC Open Data](https://data.cityofnewyork.us/City-Government/NYCgov-Poverty-Measure-Data-2018-/cts7-vksw)."
   ]
  },
  {
   "cell_type": "code",
   "execution_count": 67,
   "id": "b754b588",
   "metadata": {},
   "outputs": [],
   "source": [
    "poverty = pd.read_csv('nyc_poverty_2018.csv')"
   ]
  },
  {
   "cell_type": "markdown",
   "id": "fad3c4d8",
   "metadata": {},
   "source": [
    "We can use the head function to show the first five rows of the dataset (or tail to show the last five rows). We can also use the shape function to see the dimensions of our dataset."
   ]
  },
  {
   "cell_type": "code",
   "execution_count": 68,
   "id": "376a91f3",
   "metadata": {},
   "outputs": [
    {
     "data": {
      "text/html": [
       "<div>\n",
       "<style scoped>\n",
       "    .dataframe tbody tr th:only-of-type {\n",
       "        vertical-align: middle;\n",
       "    }\n",
       "\n",
       "    .dataframe tbody tr th {\n",
       "        vertical-align: top;\n",
       "    }\n",
       "\n",
       "    .dataframe thead th {\n",
       "        text-align: right;\n",
       "    }\n",
       "</style>\n",
       "<table border=\"1\" class=\"dataframe\">\n",
       "  <thead>\n",
       "    <tr style=\"text-align: right;\">\n",
       "      <th></th>\n",
       "      <th>SERIALNO</th>\n",
       "      <th>SPORDER</th>\n",
       "      <th>PWGTP</th>\n",
       "      <th>WGTP</th>\n",
       "      <th>AGEP</th>\n",
       "      <th>CIT</th>\n",
       "      <th>REL</th>\n",
       "      <th>SCH</th>\n",
       "      <th>SCHG</th>\n",
       "      <th>SCHL</th>\n",
       "      <th>...</th>\n",
       "      <th>Povunit_ID</th>\n",
       "      <th>Povunit_Rel</th>\n",
       "      <th>PreTaxIncome_PU</th>\n",
       "      <th>RETP_adj</th>\n",
       "      <th>RNTP_adj</th>\n",
       "      <th>SEMP_adj</th>\n",
       "      <th>SSIP_adj</th>\n",
       "      <th>SSP_adj</th>\n",
       "      <th>TotalWorkHrs_PU</th>\n",
       "      <th>WAGP_adj</th>\n",
       "    </tr>\n",
       "  </thead>\n",
       "  <tbody>\n",
       "    <tr>\n",
       "      <th>0</th>\n",
       "      <td>1</td>\n",
       "      <td>1</td>\n",
       "      <td>95</td>\n",
       "      <td>95</td>\n",
       "      <td>31</td>\n",
       "      <td>1</td>\n",
       "      <td>0</td>\n",
       "      <td>1</td>\n",
       "      <td>0</td>\n",
       "      <td>22.0</td>\n",
       "      <td>...</td>\n",
       "      <td>1</td>\n",
       "      <td>1</td>\n",
       "      <td>127650.22</td>\n",
       "      <td>0.0</td>\n",
       "      <td>0.0</td>\n",
       "      <td>0.0</td>\n",
       "      <td>0.0</td>\n",
       "      <td>0.000</td>\n",
       "      <td>2</td>\n",
       "      <td>127650.220</td>\n",
       "    </tr>\n",
       "    <tr>\n",
       "      <th>1</th>\n",
       "      <td>16</td>\n",
       "      <td>1</td>\n",
       "      <td>181</td>\n",
       "      <td>181</td>\n",
       "      <td>63</td>\n",
       "      <td>1</td>\n",
       "      <td>0</td>\n",
       "      <td>1</td>\n",
       "      <td>0</td>\n",
       "      <td>22.0</td>\n",
       "      <td>...</td>\n",
       "      <td>1</td>\n",
       "      <td>1</td>\n",
       "      <td>346479.19</td>\n",
       "      <td>0.0</td>\n",
       "      <td>0.0</td>\n",
       "      <td>0.0</td>\n",
       "      <td>0.0</td>\n",
       "      <td>0.000</td>\n",
       "      <td>2</td>\n",
       "      <td>182357.450</td>\n",
       "    </tr>\n",
       "    <tr>\n",
       "      <th>2</th>\n",
       "      <td>16</td>\n",
       "      <td>2</td>\n",
       "      <td>210</td>\n",
       "      <td>181</td>\n",
       "      <td>65</td>\n",
       "      <td>1</td>\n",
       "      <td>1</td>\n",
       "      <td>1</td>\n",
       "      <td>0</td>\n",
       "      <td>19.0</td>\n",
       "      <td>...</td>\n",
       "      <td>1</td>\n",
       "      <td>2</td>\n",
       "      <td>346479.19</td>\n",
       "      <td>0.0</td>\n",
       "      <td>0.0</td>\n",
       "      <td>0.0</td>\n",
       "      <td>0.0</td>\n",
       "      <td>12157.164</td>\n",
       "      <td>2</td>\n",
       "      <td>0.000</td>\n",
       "    </tr>\n",
       "    <tr>\n",
       "      <th>3</th>\n",
       "      <td>47</td>\n",
       "      <td>1</td>\n",
       "      <td>62</td>\n",
       "      <td>62</td>\n",
       "      <td>68</td>\n",
       "      <td>4</td>\n",
       "      <td>0</td>\n",
       "      <td>1</td>\n",
       "      <td>0</td>\n",
       "      <td>1.0</td>\n",
       "      <td>...</td>\n",
       "      <td>1</td>\n",
       "      <td>1</td>\n",
       "      <td>155003.84</td>\n",
       "      <td>0.0</td>\n",
       "      <td>0.0</td>\n",
       "      <td>0.0</td>\n",
       "      <td>0.0</td>\n",
       "      <td>27353.619</td>\n",
       "      <td>1</td>\n",
       "      <td>91178.727</td>\n",
       "    </tr>\n",
       "    <tr>\n",
       "      <th>4</th>\n",
       "      <td>47</td>\n",
       "      <td>2</td>\n",
       "      <td>71</td>\n",
       "      <td>62</td>\n",
       "      <td>63</td>\n",
       "      <td>4</td>\n",
       "      <td>1</td>\n",
       "      <td>1</td>\n",
       "      <td>0</td>\n",
       "      <td>1.0</td>\n",
       "      <td>...</td>\n",
       "      <td>1</td>\n",
       "      <td>2</td>\n",
       "      <td>155003.84</td>\n",
       "      <td>0.0</td>\n",
       "      <td>0.0</td>\n",
       "      <td>0.0</td>\n",
       "      <td>0.0</td>\n",
       "      <td>0.000</td>\n",
       "      <td>1</td>\n",
       "      <td>36471.492</td>\n",
       "    </tr>\n",
       "  </tbody>\n",
       "</table>\n",
       "<p>5 rows × 61 columns</p>\n",
       "</div>"
      ],
      "text/plain": [
       "   SERIALNO  SPORDER  PWGTP  WGTP  AGEP  CIT  REL  SCH  SCHG  SCHL  ...  \\\n",
       "0         1        1     95    95    31    1    0    1     0  22.0  ...   \n",
       "1        16        1    181   181    63    1    0    1     0  22.0  ...   \n",
       "2        16        2    210   181    65    1    1    1     0  19.0  ...   \n",
       "3        47        1     62    62    68    4    0    1     0   1.0  ...   \n",
       "4        47        2     71    62    63    4    1    1     0   1.0  ...   \n",
       "\n",
       "   Povunit_ID  Povunit_Rel  PreTaxIncome_PU  RETP_adj  RNTP_adj  SEMP_adj  \\\n",
       "0           1            1        127650.22       0.0       0.0       0.0   \n",
       "1           1            1        346479.19       0.0       0.0       0.0   \n",
       "2           1            2        346479.19       0.0       0.0       0.0   \n",
       "3           1            1        155003.84       0.0       0.0       0.0   \n",
       "4           1            2        155003.84       0.0       0.0       0.0   \n",
       "\n",
       "   SSIP_adj    SSP_adj  TotalWorkHrs_PU    WAGP_adj  \n",
       "0       0.0      0.000                2  127650.220  \n",
       "1       0.0      0.000                2  182357.450  \n",
       "2       0.0  12157.164                2       0.000  \n",
       "3       0.0  27353.619                1   91178.727  \n",
       "4       0.0      0.000                1   36471.492  \n",
       "\n",
       "[5 rows x 61 columns]"
      ]
     },
     "metadata": {},
     "output_type": "display_data"
    },
    {
     "name": "stdout",
     "output_type": "stream",
     "text": [
      "(68273, 61)\n"
     ]
    }
   ],
   "source": [
    "display(poverty.head())\n",
    "print(poverty.shape)"
   ]
  },
  {
   "cell_type": "markdown",
   "id": "d0972cac",
   "metadata": {},
   "source": [
    "After looking at our data, we can see that we have a ton of columns (61), and the columns don't seem to have very self explanatory names. On the NYC Open Data website, the dataset comes with a data dictionary that explains the columns. If you want, you can look at all the column descriptions. But, for our purposes, we will just show you how to rename them and drop unnecassry columns.\n",
    "\n",
    "We will drop uncessary columns by only selecting the ones we want to keep. There are many more ways to drop columns that you can search up."
   ]
  },
  {
   "cell_type": "code",
   "execution_count": 73,
   "id": "ebe7bbfb",
   "metadata": {},
   "outputs": [
    {
     "data": {
      "text/html": [
       "<div>\n",
       "<style scoped>\n",
       "    .dataframe tbody tr th:only-of-type {\n",
       "        vertical-align: middle;\n",
       "    }\n",
       "\n",
       "    .dataframe tbody tr th {\n",
       "        vertical-align: top;\n",
       "    }\n",
       "\n",
       "    .dataframe thead th {\n",
       "        text-align: right;\n",
       "    }\n",
       "</style>\n",
       "<table border=\"1\" class=\"dataframe\">\n",
       "  <thead>\n",
       "    <tr style=\"text-align: right;\">\n",
       "      <th></th>\n",
       "      <th>AgeCateg</th>\n",
       "      <th>Boro</th>\n",
       "      <th>CitizenStatus</th>\n",
       "      <th>EducAttain</th>\n",
       "      <th>EST_Childcare</th>\n",
       "      <th>EST_PovGap</th>\n",
       "      <th>Ethnicity</th>\n",
       "    </tr>\n",
       "  </thead>\n",
       "  <tbody>\n",
       "    <tr>\n",
       "      <th>0</th>\n",
       "      <td>2</td>\n",
       "      <td>2</td>\n",
       "      <td>1</td>\n",
       "      <td>4.0</td>\n",
       "      <td>0.0</td>\n",
       "      <td>0.0</td>\n",
       "      <td>4</td>\n",
       "    </tr>\n",
       "    <tr>\n",
       "      <th>1</th>\n",
       "      <td>2</td>\n",
       "      <td>3</td>\n",
       "      <td>1</td>\n",
       "      <td>4.0</td>\n",
       "      <td>0.0</td>\n",
       "      <td>0.0</td>\n",
       "      <td>1</td>\n",
       "    </tr>\n",
       "    <tr>\n",
       "      <th>2</th>\n",
       "      <td>3</td>\n",
       "      <td>3</td>\n",
       "      <td>1</td>\n",
       "      <td>3.0</td>\n",
       "      <td>0.0</td>\n",
       "      <td>0.0</td>\n",
       "      <td>1</td>\n",
       "    </tr>\n",
       "    <tr>\n",
       "      <th>3</th>\n",
       "      <td>3</td>\n",
       "      <td>2</td>\n",
       "      <td>2</td>\n",
       "      <td>1.0</td>\n",
       "      <td>0.0</td>\n",
       "      <td>0.0</td>\n",
       "      <td>1</td>\n",
       "    </tr>\n",
       "    <tr>\n",
       "      <th>4</th>\n",
       "      <td>2</td>\n",
       "      <td>2</td>\n",
       "      <td>2</td>\n",
       "      <td>1.0</td>\n",
       "      <td>0.0</td>\n",
       "      <td>0.0</td>\n",
       "      <td>1</td>\n",
       "    </tr>\n",
       "  </tbody>\n",
       "</table>\n",
       "</div>"
      ],
      "text/plain": [
       "   AgeCateg  Boro  CitizenStatus  EducAttain  EST_Childcare  EST_PovGap  \\\n",
       "0         2     2              1         4.0            0.0         0.0   \n",
       "1         2     3              1         4.0            0.0         0.0   \n",
       "2         3     3              1         3.0            0.0         0.0   \n",
       "3         3     2              2         1.0            0.0         0.0   \n",
       "4         2     2              2         1.0            0.0         0.0   \n",
       "\n",
       "   Ethnicity  \n",
       "0          4  \n",
       "1          1  \n",
       "2          1  \n",
       "3          1  \n",
       "4          1  "
      ]
     },
     "execution_count": 73,
     "metadata": {},
     "output_type": "execute_result"
    }
   ],
   "source": [
    "poverty = poverty[['AgeCateg', 'Boro','CitizenStatus', 'EducAttain', 'EST_Childcare', 'EST_PovGap', 'Ethnicity']]\n",
    "poverty.head()"
   ]
  },
  {
   "cell_type": "markdown",
   "id": "7c385ef4",
   "metadata": {},
   "source": [
    "Now, let's rename our columns into something more descriptive and drop all rows with na values."
   ]
  },
  {
   "cell_type": "code",
   "execution_count": 79,
   "id": "a87a585f",
   "metadata": {},
   "outputs": [
    {
     "data": {
      "text/html": [
       "<div>\n",
       "<style scoped>\n",
       "    .dataframe tbody tr th:only-of-type {\n",
       "        vertical-align: middle;\n",
       "    }\n",
       "\n",
       "    .dataframe tbody tr th {\n",
       "        vertical-align: top;\n",
       "    }\n",
       "\n",
       "    .dataframe thead th {\n",
       "        text-align: right;\n",
       "    }\n",
       "</style>\n",
       "<table border=\"1\" class=\"dataframe\">\n",
       "  <thead>\n",
       "    <tr style=\"text-align: right;\">\n",
       "      <th></th>\n",
       "      <th>age</th>\n",
       "      <th>borough</th>\n",
       "      <th>citizen</th>\n",
       "      <th>education</th>\n",
       "      <th>childcare</th>\n",
       "      <th>pov_gap</th>\n",
       "      <th>ethnicity</th>\n",
       "    </tr>\n",
       "  </thead>\n",
       "  <tbody>\n",
       "    <tr>\n",
       "      <th>0</th>\n",
       "      <td>2</td>\n",
       "      <td>2</td>\n",
       "      <td>1</td>\n",
       "      <td>4.0</td>\n",
       "      <td>0.0</td>\n",
       "      <td>0.0</td>\n",
       "      <td>4</td>\n",
       "    </tr>\n",
       "    <tr>\n",
       "      <th>1</th>\n",
       "      <td>2</td>\n",
       "      <td>3</td>\n",
       "      <td>1</td>\n",
       "      <td>4.0</td>\n",
       "      <td>0.0</td>\n",
       "      <td>0.0</td>\n",
       "      <td>1</td>\n",
       "    </tr>\n",
       "    <tr>\n",
       "      <th>2</th>\n",
       "      <td>3</td>\n",
       "      <td>3</td>\n",
       "      <td>1</td>\n",
       "      <td>3.0</td>\n",
       "      <td>0.0</td>\n",
       "      <td>0.0</td>\n",
       "      <td>1</td>\n",
       "    </tr>\n",
       "    <tr>\n",
       "      <th>3</th>\n",
       "      <td>3</td>\n",
       "      <td>2</td>\n",
       "      <td>2</td>\n",
       "      <td>1.0</td>\n",
       "      <td>0.0</td>\n",
       "      <td>0.0</td>\n",
       "      <td>1</td>\n",
       "    </tr>\n",
       "    <tr>\n",
       "      <th>4</th>\n",
       "      <td>2</td>\n",
       "      <td>2</td>\n",
       "      <td>2</td>\n",
       "      <td>1.0</td>\n",
       "      <td>0.0</td>\n",
       "      <td>0.0</td>\n",
       "      <td>1</td>\n",
       "    </tr>\n",
       "  </tbody>\n",
       "</table>\n",
       "</div>"
      ],
      "text/plain": [
       "   age  borough  citizen  education  childcare  pov_gap  ethnicity\n",
       "0    2        2        1        4.0        0.0      0.0          4\n",
       "1    2        3        1        4.0        0.0      0.0          1\n",
       "2    3        3        1        3.0        0.0      0.0          1\n",
       "3    3        2        2        1.0        0.0      0.0          1\n",
       "4    2        2        2        1.0        0.0      0.0          1"
      ]
     },
     "execution_count": 79,
     "metadata": {},
     "output_type": "execute_result"
    }
   ],
   "source": [
    "poverty.rename(columns = {'AgeCateg' : 'age', 'Boro' : 'borough', 'CitizenStatus' : 'citizen', 'EducAttain' : 'education',\n",
    "                                         'EST_Childcare' : 'childcare', 'EST_PovGap' : 'pov_gap','Ethnicity' : 'ethnicity'},\n",
    "               inplace = True)\n",
    "poverty.dropna()\n",
    "poverty.head()"
   ]
  },
  {
   "cell_type": "markdown",
   "id": "80b9496f",
   "metadata": {},
   "source": [
    "We can rename column names to make them easier to work with later on. In this we created a [for loop](https://wiki.python.org/moin/ForLoop) to replace all spaces with an underscore and make our letters lowercase."
   ]
  },
  {
   "cell_type": "code",
   "execution_count": 58,
   "id": "f2e563df",
   "metadata": {},
   "outputs": [
    {
     "name": "stdout",
     "output_type": "stream",
     "text": [
      "Index(['jurisdiction_name', 'percent_female', 'percent_male',\n",
      "       'percent_gender_total', 'percent_hispanic_latino',\n",
      "       'percent_american_indian', 'percent_asian_non_hispanic',\n",
      "       'percent_white_non_hispanic', 'percent_black_non_hispanic',\n",
      "       'percent_other_ethnicity', 'percent_ethnicity_total',\n",
      "       'percent_permanent_resident_alien', 'percent_us_citizen',\n",
      "       'percent_other_citizen_status', 'percent_citizen_status_total',\n",
      "       'percent_receives_public_assistance',\n",
      "       'percent_nreceives_public_assistance',\n",
      "       'percent_public_assistance_total'],\n",
      "      dtype='object')\n"
     ]
    }
   ],
   "source": [
    "new_colnames = []\n",
    "for col in school.columns:\n",
    "    new_colnames.append(col.lower())\n",
    "    for col in range(len(new_colnames)):\n",
    "        new_colnames[col] = new_colnames[col].replace(\" \", \"_\")\n",
    "        new_colnames[col] = new_colnames[col].lower()\n",
    "\n",
    "school.columns = new_colnames\n",
    "\n",
    "print(school.columns)"
   ]
  },
  {
   "cell_type": "markdown",
   "id": "2e10d8d3",
   "metadata": {},
   "source": [
    "## Introduction to Data Visualization with Python\n",
    "\n",
    "We use data visualization to help to tell stories by curating data into a form easier to understand, displaying trends, relationships, outliers. They not only are beautiful, but are functional.\n",
    "\n",
    "Let's start with exploring some of the relationships between the variables in our new, cleaned dataframe.\n",
    "\n",
    "Use the head function to look at the first five rows of our school dataframe."
   ]
  },
  {
   "cell_type": "code",
   "execution_count": 66,
   "id": "689ab43f",
   "metadata": {},
   "outputs": [
    {
     "data": {
      "image/png": "[encoded data removed]",
      "text/plain": [
       "<Figure size 432x288 with 1 Axes>"
      ]
     },
     "metadata": {
      "needs_background": "light"
     },
     "output_type": "display_data"
    }
   ],
   "source": [
    "plt.scatter(school['percent_permanent_resident_alien'], school['percent_receives_public_assistance'])\n",
    "plt.show()"
   ]
  },
  {
   "cell_type": "code",
   "execution_count": null,
   "id": "b34d036b",
   "metadata": {},
   "outputs": [],
   "source": []
  }
 ],
 "metadata": {
  "kernelspec": {
   "display_name": "Python 3 (ipykernel)",
   "language": "python",
   "name": "python3"
  },
  "language_info": {
   "codemirror_mode": {
    "name": "ipython",
    "version": 3
   },
   "file_extension": ".py",
   "mimetype": "text/x-python",
   "name": "python",
   "nbconvert_exporter": "python",
   "pygments_lexer": "ipython3",
   "version": "3.9.6"
  }
 },
 "nbformat": 4,
 "nbformat_minor": 5
}
